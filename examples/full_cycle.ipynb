{
 "cells": [
  {
   "cell_type": "code",
   "execution_count": 34,
   "metadata": {},
   "outputs": [],
   "source": [
    "import sys\n",
    "import os\n",
    "\n",
    "# Add the parent directory to the Python path\n",
    "parent_dir = os.path.dirname(os.getcwd())\n",
    "sys.path.append(parent_dir)\n"
   ]
  },
  {
   "cell_type": "code",
   "execution_count": 7,
   "metadata": {},
   "outputs": [
    {
     "name": "stdout",
     "output_type": "stream",
     "text": [
      "The autoreload extension is already loaded. To reload it, use:\n",
      "  %reload_ext autoreload\n"
     ]
    }
   ],
   "source": [
    "%load_ext autoreload\n",
    "%autoreload 2"
   ]
  },
  {
   "cell_type": "code",
   "execution_count": 37,
   "metadata": {},
   "outputs": [
    {
     "data": {
      "text/plain": [
       "['BCH/USD',\n",
       " 'BCH/USDC',\n",
       " 'BCH/USDT',\n",
       " 'BTC/USD',\n",
       " 'BTC/USDC',\n",
       " 'BTC/USDT',\n",
       " 'CRV/USD',\n",
       " 'CRV/USDC',\n",
       " 'DOGE/USD',\n",
       " 'DOGE/USDT',\n",
       " 'DOT/USD',\n",
       " 'DOT/USDC',\n",
       " 'ETH/BTC',\n",
       " 'ETH/USD',\n",
       " 'ETH/USDC',\n",
       " 'ETH/USDT',\n",
       " 'GRT/USD',\n",
       " 'GRT/USDC',\n",
       " 'LINK/BTC',\n",
       " 'LINK/USD',\n",
       " 'LINK/USDC',\n",
       " 'LINK/USDT',\n",
       " 'LTC/BTC',\n",
       " 'LTC/USD',\n",
       " 'LTC/USDC',\n",
       " 'LTC/USDT',\n",
       " 'MKR/USD',\n",
       " 'MKR/USDC',\n",
       " 'SHIB/USD',\n",
       " 'SHIB/USDC',\n",
       " 'SHIB/USDT',\n",
       " 'SUSHI/USD',\n",
       " 'SUSHI/USDC',\n",
       " 'SUSHI/USDT',\n",
       " 'UNI/BTC',\n",
       " 'UNI/USD',\n",
       " 'UNI/USDC',\n",
       " 'UNI/USDT',\n",
       " 'USDT/USD',\n",
       " 'USDT/USDC',\n",
       " 'XTZ/USD',\n",
       " 'XTZ/USDC',\n",
       " 'YFI/USD',\n",
       " 'YFI/USDC',\n",
       " 'YFI/USDT',\n",
       " 'DOGE/USDC',\n",
       " 'SOL/USD',\n",
       " 'SOL/USDC',\n",
       " 'SOL/USDT',\n",
       " 'USDC/USD',\n",
       " 'AAVE/USD',\n",
       " 'AAVE/USDC',\n",
       " 'AAVE/USDT',\n",
       " 'AVAX/USD',\n",
       " 'AVAX/USDC',\n",
       " 'AVAX/USDT',\n",
       " 'BAT/USD',\n",
       " 'BAT/USDC',\n",
       " 'BCH/BTC']"
      ]
     },
     "execution_count": 37,
     "metadata": {},
     "output_type": "execute_result"
    }
   ],
   "source": [
    "from rl_agent.data_processing import get_crypto_symbols\n",
    "\n",
    "symbols = get_crypto_symbols()\n",
    "symbols"
   ]
  },
  {
   "cell_type": "code",
   "execution_count": 38,
   "metadata": {},
   "outputs": [
    {
     "name": "stdout",
     "output_type": "stream",
     "text": [
      "symbol_or_symbols=['BCH/USD', 'BCH/USDC', 'BCH/USDT', 'BTC/USD', 'BTC/USDC', 'BTC/USDT', 'CRV/USD', 'CRV/USDC', 'DOGE/USD', 'DOGE/USDT'] start=datetime.datetime(2021, 7, 1, 0, 0) end=datetime.datetime(2023, 7, 1, 0, 0) limit=None currency=None sort=None timeframe=<alpaca.data.timeframe.TimeFrame object at 0x7f0ebaacde10>\n"
     ]
    }
   ],
   "source": [
    "from rl_agent.data_processing import download_data, add_technical_indicators\n",
    "\n",
    "df = download_data(symbols[0:10], '2021-07-01', '2023-07-01')\n",
    "df = add_technical_indicators(df)"
   ]
  },
  {
   "cell_type": "code",
   "execution_count": 44,
   "metadata": {},
   "outputs": [
    {
     "name": "stdout",
     "output_type": "stream",
     "text": [
      "DataFrame shape: (729, 17)\n",
      "Columns: Index(['tic', 'timestamp', 'open', 'high', 'low', 'close', 'volume',\n",
      "       'trade_count', 'vwap', 'macd', 'boll_ub', 'boll_lb', 'rsi_30', 'cci_30',\n",
      "       'adx', 'close_30_sma', 'close_60_sma'],\n",
      "      dtype='object')\n",
      "State space: 10\n",
      "Crypto dim: 1\n",
      "Tech indicators: ['macd', 'rsi_30', 'cci_30', 'adx']\n",
      "Using cuda device\n",
      "Wrapping the env with a `Monitor` wrapper\n",
      "Wrapping the env in a DummyVecEnv.\n"
     ]
    },
    {
     "name": "stderr",
     "output_type": "stream",
     "text": [
      "/home/rcgalbo/rl-agent/rla/lib/python3.10/site-packages/stable_baselines3/common/vec_env/patch_gym.py:49: UserWarning: You provided an OpenAI Gym environment. We strongly recommend transitioning to Gymnasium environments. Stable-Baselines3 is automatically wrapping your environments in a compatibility layer, which could potentially cause issues.\n",
      "  warnings.warn(\n"
     ]
    },
    {
     "name": "stdout",
     "output_type": "stream",
     "text": [
      "Episode 1 Results:\n",
      "Total Return: -87.37%\n",
      "Sharpe Ratio: 0.00\n",
      "Max Drawdown: 98.65%\n",
      "Total Trades: 590\n",
      "Win Rate: 38.98%\n",
      "----------------------------------\n",
      "| rollout/           |           |\n",
      "|    ep_len_mean     | 729       |\n",
      "|    ep_rew_mean     | -2.76e+10 |\n",
      "| time/              |           |\n",
      "|    fps             | 381       |\n",
      "|    iterations      | 1         |\n",
      "|    time_elapsed    | 5         |\n",
      "|    total_timesteps | 2048      |\n",
      "----------------------------------\n"
     ]
    },
    {
     "name": "stderr",
     "output_type": "stream",
     "text": [
      "/home/rcgalbo/rl-agent/rla/lib/python3.10/site-packages/gymnasium/core.py:311: UserWarning: \u001b[33mWARN: env.calculate_backtest_metrics to get variables from other wrappers is deprecated and will be removed in v1.0, to get this variable you can do `env.unwrapped.calculate_backtest_metrics` for environment variables or `env.get_wrapper_attr('calculate_backtest_metrics')` that will search the reminding wrappers.\u001b[0m\n",
      "  logger.warn(\n"
     ]
    },
    {
     "name": "stdout",
     "output_type": "stream",
     "text": [
      "Episode 2 Results:\n",
      "Total Return: -14.35%\n",
      "Sharpe Ratio: 0.00\n",
      "Max Drawdown: 94.02%\n",
      "Total Trades: 451\n",
      "Win Rate: 39.69%\n",
      "--------------------------------------------\n",
      "| rollout/                |                |\n",
      "|    ep_len_mean          | 729            |\n",
      "|    ep_rew_mean          | -1.11e+10      |\n",
      "| time/                   |                |\n",
      "|    fps                  | 312            |\n",
      "|    iterations           | 2              |\n",
      "|    time_elapsed         | 13             |\n",
      "|    total_timesteps      | 4096           |\n",
      "| train/                  |                |\n",
      "|    approx_kl            | 1.00408215e-08 |\n",
      "|    clip_fraction        | 0              |\n",
      "|    clip_range           | 0.2            |\n",
      "|    entropy_loss         | -4.26          |\n",
      "|    explained_variance   | 0              |\n",
      "|    learning_rate        | 0.0003         |\n",
      "|    loss                 | 1.45e+19       |\n",
      "|    n_updates            | 10             |\n",
      "|    policy_gradient_loss | 1.4e-07        |\n",
      "|    std                  | 1              |\n",
      "|    value_loss           | 1.29e+19       |\n",
      "--------------------------------------------\n",
      "Episode 3 Results:\n",
      "Total Return: -66.00%\n",
      "Sharpe Ratio: 0.00\n",
      "Max Drawdown: 97.50%\n",
      "Total Trades: 312\n",
      "Win Rate: 34.29%\n",
      "-----------------------------------------\n",
      "| rollout/                |             |\n",
      "|    ep_len_mean          | 729         |\n",
      "|    ep_rew_mean          | -7.33e+09   |\n",
      "| time/                   |             |\n",
      "|    fps                  | 298         |\n",
      "|    iterations           | 3           |\n",
      "|    time_elapsed         | 20          |\n",
      "|    total_timesteps      | 6144        |\n",
      "| train/                  |             |\n",
      "|    approx_kl            | 0.002769616 |\n",
      "|    clip_fraction        | 0.00322     |\n",
      "|    clip_range           | 0.2         |\n",
      "|    entropy_loss         | -4.26       |\n",
      "|    explained_variance   | 0           |\n",
      "|    learning_rate        | 0.0003      |\n",
      "|    loss                 | 2.01e+12    |\n",
      "|    n_updates            | 20          |\n",
      "|    policy_gradient_loss | -9.71e-05   |\n",
      "|    std                  | 1           |\n",
      "|    value_loss           | 1.54e+15    |\n",
      "-----------------------------------------\n",
      "Episode 4 Results:\n",
      "Total Return: 35.12%\n",
      "Sharpe Ratio: 0.01\n",
      "Max Drawdown: 87.96%\n",
      "Total Trades: 173\n",
      "Win Rate: 46.82%\n",
      "-----------------------------------------\n",
      "| rollout/                |             |\n",
      "|    ep_len_mean          | 729         |\n",
      "|    ep_rew_mean          | -5.33e+09   |\n",
      "| time/                   |             |\n",
      "|    fps                  | 285         |\n",
      "|    iterations           | 4           |\n",
      "|    time_elapsed         | 28          |\n",
      "|    total_timesteps      | 8192        |\n",
      "| train/                  |             |\n",
      "|    approx_kl            | 0.012760762 |\n",
      "|    clip_fraction        | 0.116       |\n",
      "|    clip_range           | 0.2         |\n",
      "|    entropy_loss         | -4.28       |\n",
      "|    explained_variance   | 0           |\n",
      "|    learning_rate        | 0.0003      |\n",
      "|    loss                 | 3.78e+14    |\n",
      "|    n_updates            | 30          |\n",
      "|    policy_gradient_loss | 0.00318     |\n",
      "|    std                  | 1.01        |\n",
      "|    value_loss           | 3.53e+16    |\n",
      "-----------------------------------------\n",
      "Episode 5 Results:\n",
      "Total Return: 155.30%\n",
      "Sharpe Ratio: 0.01\n",
      "Max Drawdown: 15.04%\n",
      "Total Trades: 34\n",
      "Win Rate: 50.00%\n",
      "------------------------------------------\n",
      "| rollout/                |              |\n",
      "|    ep_len_mean          | 729          |\n",
      "|    ep_rew_mean          | -4.19e+09    |\n",
      "| time/                   |              |\n",
      "|    fps                  | 289          |\n",
      "|    iterations           | 5            |\n",
      "|    time_elapsed         | 35           |\n",
      "|    total_timesteps      | 10240        |\n",
      "| train/                  |              |\n",
      "|    approx_kl            | 0.0012116454 |\n",
      "|    clip_fraction        | 0.000293     |\n",
      "|    clip_range           | 0.2          |\n",
      "|    entropy_loss         | -4.29        |\n",
      "|    explained_variance   | 2.38e-07     |\n",
      "|    learning_rate        | 0.0003       |\n",
      "|    loss                 | 6.54e+09     |\n",
      "|    n_updates            | 40           |\n",
      "|    policy_gradient_loss | -0.000927    |\n",
      "|    std                  | 1.01         |\n",
      "|    value_loss           | 2.85e+10     |\n",
      "------------------------------------------\n",
      "Training completed. Model saved as ppo_crypto_trader\n"
     ]
    }
   ],
   "source": [
    "from stable_baselines3 import PPO  # or whatever RL algorithm you're using\n",
    "from rl_agent.trading_env import CryptoTradingEnv\n",
    "\n",
    "from rl_agent.train import CryptoTrader\n",
    "\n",
    "\n",
    "\n",
    "# Create the environment\n",
    "env = CryptoTradingEnv(\n",
    "    df=df,\n",
    "    crypto_dim=1,\n",
    "    hmax=100,\n",
    "    initial_amount=10000,\n",
    "    buy_cost_pct=0.001,\n",
    "    sell_cost_pct=0.001,\n",
    "    reward_scaling=1e-4,\n",
    "    state_space=10,\n",
    "    action_space=3,\n",
    "    tech_indicator_list=['macd', 'rsi_30', 'cci_30', 'adx']\n",
    ")\n",
    "\n",
    "crypto_trader = CryptoTrader(env, model_name=\"ppo_crypto_trader\", mode=\"train\")\n",
    "crypto_trader.train(total_timesteps=10000)"
   ]
  },
  {
   "cell_type": "code",
   "execution_count": null,
   "metadata": {},
   "outputs": [],
   "source": []
  }
 ],
 "metadata": {
  "kernelspec": {
   "display_name": "rla",
   "language": "python",
   "name": "python3"
  },
  "language_info": {
   "codemirror_mode": {
    "name": "ipython",
    "version": 3
   },
   "file_extension": ".py",
   "mimetype": "text/x-python",
   "name": "python",
   "nbconvert_exporter": "python",
   "pygments_lexer": "ipython3",
   "version": "3.10.12"
  }
 },
 "nbformat": 4,
 "nbformat_minor": 2
}
